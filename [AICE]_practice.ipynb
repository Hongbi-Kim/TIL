{
  "cells": [
    {
      "cell_type": "markdown",
      "metadata": {
        "id": "tiQSlsmK0ksv"
      },
      "source": [
        "1. 필수 라이브러리\n"
      ]
    },
    {
      "cell_type": "code",
      "execution_count": null,
      "metadata": {
        "id": "o2lRVmV_x9ps"
      },
      "outputs": [],
      "source": [
        "import sklearn as sk\n",
        "import pandas as pd"
      ]
    },
    {
      "cell_type": "code",
      "execution_count": null,
      "metadata": {
        "id": "FjFuRJoi0jTC"
      },
      "outputs": [],
      "source": [
        "import sklearn.preprocessing as sk_pre\n",
        "import sklearn.metrics as sk_met\n",
        "import sklearn.model_selection as sk_mod\n",
        "\n",
        "import seaborn as sns\n",
        "import tensorflow as tf\n",
        "\n",
        "from sklearn.preprocessing import StandardScaler, MinMaxScaler\n",
        "\n",
        "from tensorflow.keras.models import Sequential\n",
        "from tensorflow.keras.layers import Dense"
      ]
    },
    {
      "cell_type": "code",
      "execution_count": null,
      "metadata": {
        "id": "P1m2eSEy1ONo"
      },
      "outputs": [],
      "source": []
    },
    {
      "cell_type": "markdown",
      "metadata": {
        "id": "NVtzw33e1SBO"
      },
      "source": [
        "2. 데이터 불러오기 및 저장"
      ]
    },
    {
      "cell_type": "code",
      "execution_count": null,
      "metadata": {
        "colab": {
          "base_uri": "https://localhost:8080/",
          "height": 144
        },
        "collapsed": true,
        "id": "3dwBlBPZ1UEc",
        "outputId": "fb5e32ee-eecb-414e-bd4a-0b62e65003eb"
      },
      "outputs": [],
      "source": [
        "df = pd.read_csv(\"파일경로\")\n",
        "df_excel = pd.read_excel(\"파일 경로\")\n",
        "\n",
        "df.to_csv(\"저장할 파일 경로\", index = False)\n",
        "df.to_json(\"저장할 파일 경로\", orient=\"records\")\n",
        "df.to_pickle(\"저장할 파일 경로\")"
      ]
    },
    {
      "cell_type": "markdown",
      "metadata": {
        "id": "fns0F8-k173f"
      },
      "source": [
        "3. 데이터 병합"
      ]
    },
    {
      "cell_type": "code",
      "execution_count": null,
      "metadata": {
        "id": "EmWuHrG01Z8p"
      },
      "outputs": [],
      "source": [
        "df1 = df[[\"model_year\", \"mpg\", \"cylinders\"]] # 해당 컬럼만 포함\n",
        "df2 = df[[\"model_year\", \"weight\"]]\n",
        "\n",
        "df_merge = pd.merge(df1, df2, on = \"model_year\", how=\"inner\") # on: 해당 컬럼을 기준으로, how: 이렇게 조인해라 → inner, outer\n",
        "df_concate = pd.concate([df1, df2], axis=0) # axis: 0→행(위, 아래로 조인), 1→열(좌, 우로 조인)"
      ]
    },
    {
      "cell_type": "markdown",
      "metadata": {
        "id": "iKYzUQeK22xo"
      },
      "source": [
        "4. 데이터 분포 시각화"
      ]
    },
    {
      "cell_type": "code",
      "execution_count": null,
      "metadata": {
        "id": "cr8hrumZ243g"
      },
      "outputs": [],
      "source": [
        "import seaborn as sns\n",
        "import matplotlib.pyplot as plt\n",
        "\n",
        "plt.figure(figsize=(8,5))\n",
        "sns.countplot(data=df, x=\"origin\") # 해당 컬럼 분포 시각화\n",
        "sns.histplot(data=df, x=\"mpg\", bins=20, kde=True)\n",
        "sns.boxplot(data=df, x=\"weight\")\n",
        "sns.violinplot(data=df, x=\"horsepower\")\n",
        "plt.title(\"Origin Distribution\")\n",
        "plt.show()"
      ]
    },
    {
      "cell_type": "code",
      "execution_count": null,
      "metadata": {
        "id": "3xVwo4qE3g2g"
      },
      "outputs": [],
      "source": [
        "# 해당 컬럼의 빈도를 막대그래프로 표현\n",
        "plt.figure(figsize=(8,5))\n",
        "df[\"model_year\"].value_counts().sort_index().plot(kind=\"bar\")\n",
        "\n",
        "plt.title(\"Model Year Distribution\")\n",
        "plt.xlabel(\"Model Year\")\n",
        "plt.ylabel(\"Count\")\n",
        "plt.show()"
      ]
    },
    {
      "cell_type": "markdown",
      "metadata": {
        "id": "vyGTQ4gX303M"
      },
      "source": [
        "5. 변수 간 관계 분석"
      ]
    },
    {
      "cell_type": "code",
      "execution_count": null,
      "metadata": {
        "id": "MdhrnFTCon2v"
      },
      "outputs": [],
      "source": [
        "df.mode() # 최빈값\n",
        "df.std() # 표준편차\n",
        "df.var() # 분산\n",
        "df.corr() # 상관계수"
      ]
    },
    {
      "cell_type": "code",
      "execution_count": null,
      "metadata": {
        "id": "0AxjLSau33I4"
      },
      "outputs": [],
      "source": [
        "import seaborn as sns\n",
        "import matplotlib.pyplot as plt\n",
        "\n",
        "sns.joinplot(data=df, x=\"weight\", y=\"mpg\", kind=\"scatter\")\n",
        "\n",
        "plt.show()"
      ]
    },
    {
      "cell_type": "markdown",
      "metadata": {
        "id": "4vf0WCBC4Iq5"
      },
      "source": [
        "6. 이상치 제거"
      ]
    },
    {
      "cell_type": "code",
      "execution_count": null,
      "metadata": {
        "id": "g2AElFV3hcGC"
      },
      "outputs": [],
      "source": [
        "# 결측치 확인\n",
        "print(df.isnull().sum())"
      ]
    },
    {
      "cell_type": "code",
      "execution_count": null,
      "metadata": {
        "id": "4MqGZ4Ba4J-Y"
      },
      "outputs": [],
      "source": [
        "df_temp = df[df[\"mpg\"] <= 50]\n",
        "\n",
        "Q1 = df[\"horsepower\"].quantile(0.25) # 1사분위\n",
        "Q3 = df[\"horsepower\"].quantile(0.75) # 2사분위\n",
        "\n",
        "# IQR: 데이터의 중간 50% 범위를 기준으로 이상치를 탐지하는 방법\n",
        "IQR = Q3-Q1\n",
        "df_temp = df[(df[\"horsepower\"] >= Q1 - 1.5 * IQR) & (df[\"horsepower\"] <= Q3 + 1.5*IQR)]\n",
        "plt.show()"
      ]
    },
    {
      "cell_type": "code",
      "execution_count": null,
      "metadata": {
        "id": "Dcu4NjSr6TBb"
      },
      "outputs": [],
      "source": [
        "from scipy import stats\n",
        "\n",
        "# Z-score을 활용하여 이상치 제거\n",
        "df_temp = df[(abs(stats.zscore(df[\"acceleration\"])) < 3)]"
      ]
    },
    {
      "cell_type": "markdown",
      "metadata": {
        "id": "LLiZrWae6oHX"
      },
      "source": [
        "7. 결측치 제거"
      ]
    },
    {
      "cell_type": "code",
      "execution_count": null,
      "metadata": {
        "id": "6tZg68yH6pND"
      },
      "outputs": [],
      "source": [
        "df.dropna() # 모든 컬럼을 대상으로 결측치가 포함된 행 제거\n",
        "df.dropna(subset=[\"horsepower\"]) # 특정 행\n",
        "df.dropna(axis=1) # 결측치가 포함된 열\n",
        "\n",
        "df.fillna(0) # 결측치 대체\n",
        "df[\"horsepower\"].fillna(df[\"horsepower\"].mean())"
      ]
    },
    {
      "cell_type": "markdown",
      "metadata": {
        "id": "YWHHDJvc7Dtr"
      },
      "source": [
        "8. 불필요한 컬럼 삭제"
      ]
    },
    {
      "cell_type": "code",
      "execution_count": null,
      "metadata": {
        "colab": {
          "base_uri": "https://localhost:8080/",
          "height": 216
        },
        "collapsed": true,
        "id": "GrASwoXs7FeC",
        "outputId": "487a0374-9bdd-4f8f-e469-79f097254719"
      },
      "outputs": [],
      "source": [
        "df.drop(columns = [\"name\", \"origin\"])\n",
        "df.drop(index = 2) # 특정 행 삭제\n",
        "df.drop_duplicates(keep = \"fisrt\") # 중복된 행 삭제, 첫 번째 중복행을 유지 (\"fisrt\", \"last\", \"False\")\n",
        "df.drop_duplicates(subset=[\"열 이름\"]) # 특정 열을 기준으로 중복 여부 판단\n",
        "\n",
        "df.select_dtypes(exclue=[\"object\"]) # 모든 문자열 타입 컬럼 삭제\n",
        "df.select_dtypes(exclue=[\"number\"]) # 모든 숫자열 타입 컬럼 삭제\n",
        "\n",
        "df.iloc[:,1:]\n",
        "df.iloc[:,:5]\n",
        "df.loc[:,[\"mpg\", \"weight\", \"horsepower\"]]"
      ]
    },
    {
      "cell_type": "code",
      "execution_count": null,
      "metadata": {
        "id": "g7MG2r-qlXeh"
      },
      "outputs": [],
      "source": [
        "df.grouby([\"그룹기준 열\"])\n",
        "\n",
        "df.pivot_table(index=\"성별\", columns = \"흉통유형\", values = \"최대심박수\", aggfunc = \"mean\", fill_value=0)"
      ]
    },
    {
      "cell_type": "markdown",
      "metadata": {
        "id": "3RPGLSxd7kxr"
      },
      "source": [
        "9. 인코딩"
      ]
    },
    {
      "cell_type": "code",
      "execution_count": null,
      "metadata": {
        "id": "KXk3BqkT7bhv"
      },
      "outputs": [],
      "source": [
        "# 원핫 인코딩\n",
        "pd.get_dummies(df)\n",
        "pd.get_dummies(df, columns = [\"origin\"])\n",
        "pd.get_dummies(df, columns = [\"origin\"], prefix = \"origin\") # 열 이름 origin_1"
      ]
    },
    {
      "cell_type": "code",
      "execution_count": null,
      "metadata": {
        "id": "QLv70Gr77vty"
      },
      "outputs": [],
      "source": [
        "# 라벨 인코딩\n",
        "from sklearn.preprocessing import LabelEncoder\n",
        "\n",
        "le = LabelEncoder()\n",
        "df[\"origin\"] = le.fit_transform(df[\"origin\"]) # 컬럼이 1,2,3으로 변환"
      ]
    },
    {
      "cell_type": "code",
      "execution_count": null,
      "metadata": {
        "id": "mUzc_KVc7_UN"
      },
      "outputs": [],
      "source": [
        "from sklearn.preprocessing import OrdinalEncoder\n",
        "\n",
        "oe = OrdinalEncoder()\n",
        "df[\"origin\"] = oe.fit_transform(df[\"origin\"]) # 컬럼이 숫자값 1,2,3으로 변환"
      ]
    },
    {
      "cell_type": "markdown",
      "metadata": {
        "id": "mHQt7Ray8W3V"
      },
      "source": [
        "### 10. 데이터셋 분리 및 스케일링"
      ]
    },
    {
      "cell_type": "code",
      "execution_count": null,
      "metadata": {
        "id": "XYzCytf18bGd"
      },
      "outputs": [],
      "source": [
        "from sklearn.model_selection import train_test_split\n",
        "\n",
        "X = df.drop(columns = [\"mpg\"])\n",
        "y = df[\"mpg\"]\n",
        "\n",
        "X_train, X_valid, y_train, y_valid = train_test_split(X, y, test_size = 0.2, random_state = 42) # stratify=y : 타켓 변수의 불균형이 심할 때 범주를 균형있게 분할해줌."
      ]
    },
    {
      "cell_type": "code",
      "execution_count": null,
      "metadata": {
        "id": "Nznxc5Qijjj0"
      },
      "outputs": [],
      "source": [
        "# 데이터를 지정한 구간(bins)에 따라 나누고, 각 구간에 이름을 붙임\n",
        "pd.cut(df[\"Age\"], bins=[0,20,40,60,80], labels =[\"10대\",\"20대\",\"30대\",\"40대 이상\"])"
      ]
    },
    {
      "cell_type": "code",
      "execution_count": null,
      "metadata": {
        "id": "x0UsfLuF8vPn"
      },
      "outputs": [],
      "source": [
        "from sklearn.preprocessing import StandardScaler, MinMaxScaler, RobustScaler\n",
        "\n",
        "scaler = StandardScaler()\n",
        "X_train_scaled = scaler.fit_transform(X_train)\n",
        "X_valid_scaled = scaler.transform(X_valid)"
      ]
    },
    {
      "cell_type": "markdown",
      "metadata": {
        "id": "rG35XfUf8a7G"
      },
      "source": [
        "11. 머신러닝 모델 학습"
      ]
    },
    {
      "cell_type": "code",
      "execution_count": null,
      "metadata": {
        "id": "bspQquRu9jbF"
      },
      "outputs": [],
      "source": [
        "# 트리기반 모델은 스케일링이 필요하지 않음.\n",
        "from sklearn.tree import DecisionTreeRegressor\n",
        "from sklearn.ensemble import RandomForestRegressor\n",
        "from sklearn.ensemble import GradientBoostingRegressor\n",
        "from xgboost import XGBRegreesor\n",
        "\n",
        "# 선형 모델, 거리 기반은 스케일링이 필요함.\n",
        "from sklearn.linear_model import LinearRegression\n",
        "from sklearn.svm import SVR"
      ]
    },
    {
      "cell_type": "code",
      "execution_count": null,
      "metadata": {
        "id": "6sUFi0Mz9wK-"
      },
      "outputs": [],
      "source": [
        "# 모델 정의\n",
        "dt_model = DecisionTreeRegressor(max_depth = 5, random_state = 1202)\n",
        "lr_model = LinearRegression()"
      ]
    },
    {
      "cell_type": "code",
      "execution_count": null,
      "metadata": {
        "id": "pheFVeXw97sv"
      },
      "outputs": [],
      "source": [
        "# 모델 학습\n",
        "dt_model.fit(X_train, y_train)"
      ]
    },
    {
      "cell_type": "markdown",
      "metadata": {
        "id": "BXTJjrkp-57b"
      },
      "source": [
        "### 12. 모델 성능 평가"
      ]
    },
    {
      "cell_type": "code",
      "execution_count": null,
      "metadata": {
        "id": "-TJvPIJb-7Nm"
      },
      "outputs": [],
      "source": [
        "from sklearn.metrics import mean_absolute_error, r2_score"
      ]
    },
    {
      "cell_type": "code",
      "execution_count": null,
      "metadata": {
        "id": "Lt98a9VA_CXI"
      },
      "outputs": [],
      "source": [
        "# 예측값 계산\n",
        "y_pred = dt_model.predict(X_valid)"
      ]
    },
    {
      "cell_type": "code",
      "execution_count": null,
      "metadata": {
        "id": "r7MWe516_JAi"
      },
      "outputs": [],
      "source": [
        "# MAE 계산\n",
        "dt_mae = mean_absolute_error(y_valid, y_pred)"
      ]
    },
    {
      "cell_type": "markdown",
      "metadata": {
        "id": "QltWYxeN_oj8"
      },
      "source": [
        "13. 딥러닝 모델 학습\n",
        "- TensorFlow를 활용하여 딥러닝 모델을 설계하세요."
      ]
    },
    {
      "cell_type": "code",
      "execution_count": null,
      "metadata": {
        "id": "uyGiAB0H_pmM"
      },
      "outputs": [],
      "source": [
        "import tensorflow as tf\n",
        "from tensorflow.keras.models import Sequential\n",
        "from tensorflow.keras.laeyers import Dense, Dropout"
      ]
    },
    {
      "cell_type": "code",
      "execution_count": null,
      "metadata": {
        "id": "s92dzgHDKcBg"
      },
      "outputs": [],
      "source": [
        "# 모델 정의\n",
        "model = Sequential([Dense(64, activation=\"relu\", input_shape=(X_train.shape[1],)),\n",
        "                    Dropout(0.2),\n",
        "                    Dense(32, activation = \"relu\"),\n",
        "                    Dense(1)\n",
        "                    ])"
      ]
    },
    {
      "cell_type": "code",
      "execution_count": null,
      "metadata": {
        "id": "wt6HsKKHlS2n"
      },
      "outputs": [],
      "source": [
        "model = Sequential()\n",
        "model.add(Dense(64, activation = \"tanh\", input_shape=(X_train.shape[1],)))\n",
        "model.add(Dropout(0.2))\n",
        "model.add(Dense(32, activation=\"tanh\"))\n",
        "model.add(Dense(1))"
      ]
    },
    {
      "cell_type": "code",
      "execution_count": null,
      "metadata": {
        "id": "QKY8fBhgkryC"
      },
      "outputs": [],
      "source": [
        "model.compile(optimizer = \"adam\", loss=\"mse\")\n",
        "model.fit(X_train, y_train, validation_data=(X_valid, y_valid), epochs=30, batch_size=16)"
      ]
    },
    {
      "cell_type": "code",
      "execution_count": null,
      "metadata": {
        "id": "yF-_r0H7l6rw"
      },
      "outputs": [],
      "source": [
        "from tensorflow.keras.optimizers import SGD\n",
        "\n",
        "model.compile(optimizer = SGD(learning_rate = 0.01), loss =\"mse\")\n",
        "model.fit(X_trian, y_train, validation_data=(X_valid, y_valid), epochs=30, batch_size=16)"
      ]
    },
    {
      "cell_type": "code",
      "execution_count": null,
      "metadata": {
        "id": "mbSjQPojl3CH"
      },
      "outputs": [],
      "source": [
        "y_pred_svr = svr_model.predict(X_valid_scaled)\n",
        "\n",
        "svr_mae = mean_absolute_error(y_valid, y_pred_svr)"
      ]
    },
    {
      "cell_type": "code",
      "execution_count": null,
      "metadata": {
        "id": "ZEYdLDrPmfWP"
      },
      "outputs": [],
      "source": [
        "# 모델 저장 및 불러오기\n",
        "model.save(\"saved_model.h5\")\n",
        "\n",
        "loaded_model = tf.keras.models.load_model(\"saved_model.h5\")"
      ]
    },
    {
      "cell_type": "code",
      "execution_count": null,
      "metadata": {
        "id": "UzlV5FaBmpK3"
      },
      "outputs": [],
      "source": [
        "# 체크포인트 설정\n",
        "from tensorflow.keras.callbacks import ModelCheckpoint\n",
        "\n",
        "checkpoint = ModelCheckpoint(\"best_model.h5\", monitor=\"val_loss\", save_best_only = True, mode=\"min\")\n",
        "\n",
        "model.fit(X_train, y_train, validation_data=(X_valid, y_valid), epochs=30, batch_size=16, callbacks=[checkpoint])"
      ]
    },
    {
      "cell_type": "code",
      "execution_count": null,
      "metadata": {
        "id": "jcsAFslFnFJm"
      },
      "outputs": [],
      "source": [
        "# 모델 학습 과정에서 저장된 손실값 가져오기\n",
        "history = model.history.history\n",
        "\n",
        "print(\"Final Training MSE:\", history[\"loss\"][-1])\n",
        "print(\"Final Validation MSE:\", history[\"val_loss\"][-1])"
      ]
    },
    {
      "cell_type": "code",
      "execution_count": null,
      "metadata": {
        "id": "OcrbG13lnVij"
      },
      "outputs": [],
      "source": [
        "from tensorflow.keras.callbacks import ModelCheckpoint, EarlyStopping\n",
        "\n",
        "checkpoint = ModelCheckpoint(\"best_model.h5\", mointor=\"val_loss\", save_best_only=True, mode=\"min\")\n",
        "early_stopping = EarlyStopping(monitor = \"val_loss\", patience=5, restore_best_weights=True)\n",
        "\n",
        "model.fit(X_train, y_train, validation_data = (X_valid, y_valid), epochs=30, batch_size=16, callbacks=[checkpoint, early_stopping])"
      ]
    }
  ],
  "metadata": {
    "colab": {
      "provenance": []
    },
    "kernelspec": {
      "display_name": "Python 3",
      "name": "python3"
    },
    "language_info": {
      "name": "python"
    }
  },
  "nbformat": 4,
  "nbformat_minor": 0
}
