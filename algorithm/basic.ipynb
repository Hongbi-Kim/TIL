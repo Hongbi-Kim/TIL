{
 "cells": [
  {
   "cell_type": "code",
   "execution_count": 6,
   "metadata": {},
   "outputs": [
    {
     "data": {
      "text/plain": [
       "'1011'"
      ]
     },
     "execution_count": 6,
     "metadata": {},
     "output_type": "execute_result"
    }
   ],
   "source": [
    "# K진수 구하기\n",
    "def to_k_base(n, k):\n",
    "    result = \"\"\n",
    "    while n > 0:\n",
    "        result = str(n%k) + result\n",
    "        n //= k\n",
    "    return result\n",
    "to_k_base(11,2)"
   ]
  },
  {
   "cell_type": "code",
   "execution_count": 10,
   "metadata": {},
   "outputs": [
    {
     "name": "stdout",
     "output_type": "stream",
     "text": [
      "1011\n",
      "13\n",
      "b\n"
     ]
    }
   ],
   "source": [
    "print(format(11,'b')) # 2진수\n",
    "print(format(11,'o')) # 8진수\n",
    "print(format(11,'x')) # 16진수"
   ]
  },
  {
   "cell_type": "code",
   "execution_count": 7,
   "metadata": {},
   "outputs": [],
   "source": [
    "# 약수 구하기\n",
    "def is_prime(n):\n",
    "    if n < 2:\n",
    "        return False\n",
    "    for i in range(2, int(n**0.5)+1):\n",
    "        if n % i == 0:\n",
    "            return False\n",
    "    return True"
   ]
  },
  {
   "cell_type": "code",
   "execution_count": 8,
   "metadata": {},
   "outputs": [
    {
     "data": {
      "text/plain": [
       "True"
      ]
     },
     "execution_count": 8,
     "metadata": {},
     "output_type": "execute_result"
    }
   ],
   "source": [
    "is_prime(11)"
   ]
  },
  {
   "cell_type": "code",
   "execution_count": 21,
   "metadata": {},
   "outputs": [
    {
     "name": "stdout",
     "output_type": "stream",
     "text": [
      "OrderedDict([('a', True), ('b', True)])\n",
      "OrderedDict([('b', True), ('a', True)])\n"
     ]
    },
    {
     "data": {
      "text/plain": [
       "OrderedDict([('a', True)])"
      ]
     },
     "execution_count": 21,
     "metadata": {},
     "output_type": "execute_result"
    }
   ],
   "source": [
    "from collections import OrderedDict\n",
    "\n",
    "cache = OrderedDict()\n",
    "cache[\"a\"] = True\n",
    "cache[\"b\"] = True\n",
    "print(cache)\n",
    "cache.move_to_end(\"a\") # 맨 뒤로\n",
    "print(cache)\n",
    "cache.popitem(last=False) # 맨 앞 제거\n",
    "cache"
   ]
  },
  {
   "cell_type": "code",
   "execution_count": 24,
   "metadata": {},
   "outputs": [
    {
     "name": "stdout",
     "output_type": "stream",
     "text": [
      "1 2\n"
     ]
    }
   ],
   "source": [
    "# 백준 input 처리\n",
    "N, M = map(int, input().split())\n",
    "print(N, M)"
   ]
  },
  {
   "cell_type": "code",
   "execution_count": 3,
   "metadata": {},
   "outputs": [
    {
     "name": "stdout",
     "output_type": "stream",
     "text": [
      "1 2\n",
      "1 3\n",
      "2 1\n",
      "2 3\n",
      "3 1\n",
      "3 2\n"
     ]
    }
   ],
   "source": [
    "# 백트래킹(DFS)을 이용한 순열\n",
    "def solution(N, M):\n",
    "    # result = []\n",
    "    visited = [False] * (N + 1)\n",
    "\n",
    "    def dfs(path):\n",
    "        if len(path) == M:\n",
    "            print(' '.join(map(str, path)))\n",
    "            return\n",
    "\n",
    "        for i in range(1, N + 1):\n",
    "            if not visited[i]:\n",
    "                visited[i] = True\n",
    "                dfs(path + [i])\n",
    "                visited[i] = False  # 백트래킹\n",
    "\n",
    "    dfs([])\n",
    "\n",
    "solution(3, 2)"
   ]
  },
  {
   "cell_type": "code",
   "execution_count": 5,
   "metadata": {},
   "outputs": [
    {
     "name": "stdout",
     "output_type": "stream",
     "text": [
      "1\n",
      "2\n",
      "3\n",
      "4\n"
     ]
    }
   ],
   "source": [
    "solution(4, 1)"
   ]
  },
  {
   "cell_type": "code",
   "execution_count": 31,
   "metadata": {},
   "outputs": [
    {
     "name": "stdout",
     "output_type": "stream",
     "text": [
      "1 2\n",
      "1 3\n",
      "2 1\n",
      "2 3\n",
      "3 1\n",
      "3 2\n"
     ]
    }
   ],
   "source": [
    "from itertools import permutations\n",
    "N, M = 3, 2\n",
    "\n",
    "for p in permutations(range(1, N + 1), M):\n",
    "    print(' '.join(map(str, p)))"
   ]
  },
  {
   "cell_type": "code",
   "execution_count": null,
   "metadata": {},
   "outputs": [],
   "source": [
    "import sys\n",
    "input = sys.stdin.readline\n",
    "n = int(input())"
   ]
  },
  {
   "cell_type": "code",
   "execution_count": null,
   "metadata": {},
   "outputs": [],
   "source": [
    "arr = list(map(int, input().split()))\n",
    "print(arr)  # [1, 2, 3, 4, 5]"
   ]
  }
 ],
 "metadata": {
  "kernelspec": {
   "display_name": "dacon",
   "language": "python",
   "name": "python3"
  },
  "language_info": {
   "codemirror_mode": {
    "name": "ipython",
    "version": 3
   },
   "file_extension": ".py",
   "mimetype": "text/x-python",
   "name": "python",
   "nbconvert_exporter": "python",
   "pygments_lexer": "ipython3",
   "version": "3.9.21"
  }
 },
 "nbformat": 4,
 "nbformat_minor": 2
}
